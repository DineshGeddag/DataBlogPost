{
 "cells": [
  {
   "cell_type": "markdown",
   "metadata": {},
   "source": [
    "# Objective 1:"
   ]
  },
  {
   "cell_type": "markdown",
   "metadata": {},
   "source": [
    "# What are looking after data insights\n",
    "    1. Is weekends or through week impact the data\n",
    "    2. Does Seasonality categorizing the price\n",
    "    3. Does neighbourhood variations\n",
    "## Main factors that affecting  price of the property\n",
    "## By above findings will try to create a model to predict the price of the property"
   ]
  },
  {
   "cell_type": "markdown",
   "metadata": {},
   "source": [
    "## Loading Packages"
   ]
  },
  {
   "cell_type": "code",
   "execution_count": 1,
   "metadata": {},
   "outputs": [],
   "source": [
    "import pandas as pd\n",
    "import numpy as np\n",
    "import matplotlib.pyplot as plt\n",
    "import seaborn as sns\n",
    "import warnings\n",
    "import calendar\n",
    "from re import sub\n",
    "warnings.filterwarnings(\"ignore\")\n",
    "%matplotlib inline"
   ]
  },
  {
   "cell_type": "markdown",
   "metadata": {},
   "source": [
    "# Data Collection"
   ]
  },
  {
   "cell_type": "code",
   "execution_count": 2,
   "metadata": {},
   "outputs": [],
   "source": [
    "cal= pd.read_csv('calendar.csv',parse_dates=['date'])\n",
    "lst= pd.read_csv('listings.csv')\n",
    "revws= pd.read_csv('reviews.csv')"
   ]
  },
  {
   "cell_type": "code",
   "execution_count": 4,
   "metadata": {},
   "outputs": [
    {
     "data": {
      "text/html": [
       "<div>\n",
       "<style scoped>\n",
       "    .dataframe tbody tr th:only-of-type {\n",
       "        vertical-align: middle;\n",
       "    }\n",
       "\n",
       "    .dataframe tbody tr th {\n",
       "        vertical-align: top;\n",
       "    }\n",
       "\n",
       "    .dataframe thead th {\n",
       "        text-align: right;\n",
       "    }\n",
       "</style>\n",
       "<table border=\"1\" class=\"dataframe\">\n",
       "  <thead>\n",
       "    <tr style=\"text-align: right;\">\n",
       "      <th></th>\n",
       "      <th>id</th>\n",
       "      <th>listing_url</th>\n",
       "      <th>scrape_id</th>\n",
       "      <th>last_scraped</th>\n",
       "      <th>name</th>\n",
       "      <th>summary</th>\n",
       "      <th>space</th>\n",
       "      <th>description</th>\n",
       "      <th>experiences_offered</th>\n",
       "      <th>neighborhood_overview</th>\n",
       "      <th>...</th>\n",
       "      <th>review_scores_value</th>\n",
       "      <th>requires_license</th>\n",
       "      <th>license</th>\n",
       "      <th>jurisdiction_names</th>\n",
       "      <th>instant_bookable</th>\n",
       "      <th>cancellation_policy</th>\n",
       "      <th>require_guest_profile_picture</th>\n",
       "      <th>require_guest_phone_verification</th>\n",
       "      <th>calculated_host_listings_count</th>\n",
       "      <th>reviews_per_month</th>\n",
       "    </tr>\n",
       "  </thead>\n",
       "  <tbody>\n",
       "    <tr>\n",
       "      <th>0</th>\n",
       "      <td>241032</td>\n",
       "      <td>https://www.airbnb.com/rooms/241032</td>\n",
       "      <td>20160104002432</td>\n",
       "      <td>2016-01-04</td>\n",
       "      <td>Stylish Queen Anne Apartment</td>\n",
       "      <td>NaN</td>\n",
       "      <td>Make your self at home in this charming one-be...</td>\n",
       "      <td>Make your self at home in this charming one-be...</td>\n",
       "      <td>none</td>\n",
       "      <td>NaN</td>\n",
       "      <td>...</td>\n",
       "      <td>10.0</td>\n",
       "      <td>f</td>\n",
       "      <td>NaN</td>\n",
       "      <td>WASHINGTON</td>\n",
       "      <td>f</td>\n",
       "      <td>moderate</td>\n",
       "      <td>f</td>\n",
       "      <td>f</td>\n",
       "      <td>2</td>\n",
       "      <td>4.07</td>\n",
       "    </tr>\n",
       "    <tr>\n",
       "      <th>1</th>\n",
       "      <td>953595</td>\n",
       "      <td>https://www.airbnb.com/rooms/953595</td>\n",
       "      <td>20160104002432</td>\n",
       "      <td>2016-01-04</td>\n",
       "      <td>Bright &amp; Airy Queen Anne Apartment</td>\n",
       "      <td>Chemically sensitive? We've removed the irrita...</td>\n",
       "      <td>Beautiful, hypoallergenic apartment in an extr...</td>\n",
       "      <td>Chemically sensitive? We've removed the irrita...</td>\n",
       "      <td>none</td>\n",
       "      <td>Queen Anne is a wonderful, truly functional vi...</td>\n",
       "      <td>...</td>\n",
       "      <td>10.0</td>\n",
       "      <td>f</td>\n",
       "      <td>NaN</td>\n",
       "      <td>WASHINGTON</td>\n",
       "      <td>f</td>\n",
       "      <td>strict</td>\n",
       "      <td>t</td>\n",
       "      <td>t</td>\n",
       "      <td>6</td>\n",
       "      <td>1.48</td>\n",
       "    </tr>\n",
       "    <tr>\n",
       "      <th>2</th>\n",
       "      <td>3308979</td>\n",
       "      <td>https://www.airbnb.com/rooms/3308979</td>\n",
       "      <td>20160104002432</td>\n",
       "      <td>2016-01-04</td>\n",
       "      <td>New Modern House-Amazing water view</td>\n",
       "      <td>New modern house built in 2013.  Spectacular s...</td>\n",
       "      <td>Our house is modern, light and fresh with a wa...</td>\n",
       "      <td>New modern house built in 2013.  Spectacular s...</td>\n",
       "      <td>none</td>\n",
       "      <td>Upper Queen Anne is a charming neighborhood fu...</td>\n",
       "      <td>...</td>\n",
       "      <td>10.0</td>\n",
       "      <td>f</td>\n",
       "      <td>NaN</td>\n",
       "      <td>WASHINGTON</td>\n",
       "      <td>f</td>\n",
       "      <td>strict</td>\n",
       "      <td>f</td>\n",
       "      <td>f</td>\n",
       "      <td>2</td>\n",
       "      <td>1.15</td>\n",
       "    </tr>\n",
       "    <tr>\n",
       "      <th>3</th>\n",
       "      <td>7421966</td>\n",
       "      <td>https://www.airbnb.com/rooms/7421966</td>\n",
       "      <td>20160104002432</td>\n",
       "      <td>2016-01-04</td>\n",
       "      <td>Queen Anne Chateau</td>\n",
       "      <td>A charming apartment that sits atop Queen Anne...</td>\n",
       "      <td>NaN</td>\n",
       "      <td>A charming apartment that sits atop Queen Anne...</td>\n",
       "      <td>none</td>\n",
       "      <td>NaN</td>\n",
       "      <td>...</td>\n",
       "      <td>NaN</td>\n",
       "      <td>f</td>\n",
       "      <td>NaN</td>\n",
       "      <td>WASHINGTON</td>\n",
       "      <td>f</td>\n",
       "      <td>flexible</td>\n",
       "      <td>f</td>\n",
       "      <td>f</td>\n",
       "      <td>1</td>\n",
       "      <td>NaN</td>\n",
       "    </tr>\n",
       "    <tr>\n",
       "      <th>4</th>\n",
       "      <td>278830</td>\n",
       "      <td>https://www.airbnb.com/rooms/278830</td>\n",
       "      <td>20160104002432</td>\n",
       "      <td>2016-01-04</td>\n",
       "      <td>Charming craftsman 3 bdm house</td>\n",
       "      <td>Cozy family craftman house in beautiful neighb...</td>\n",
       "      <td>Cozy family craftman house in beautiful neighb...</td>\n",
       "      <td>Cozy family craftman house in beautiful neighb...</td>\n",
       "      <td>none</td>\n",
       "      <td>We are in the beautiful neighborhood of Queen ...</td>\n",
       "      <td>...</td>\n",
       "      <td>9.0</td>\n",
       "      <td>f</td>\n",
       "      <td>NaN</td>\n",
       "      <td>WASHINGTON</td>\n",
       "      <td>f</td>\n",
       "      <td>strict</td>\n",
       "      <td>f</td>\n",
       "      <td>f</td>\n",
       "      <td>1</td>\n",
       "      <td>0.89</td>\n",
       "    </tr>\n",
       "  </tbody>\n",
       "</table>\n",
       "<p>5 rows × 92 columns</p>\n",
       "</div>"
      ],
      "text/plain": [
       "        id                           listing_url       scrape_id last_scraped  \\\n",
       "0   241032   https://www.airbnb.com/rooms/241032  20160104002432   2016-01-04   \n",
       "1   953595   https://www.airbnb.com/rooms/953595  20160104002432   2016-01-04   \n",
       "2  3308979  https://www.airbnb.com/rooms/3308979  20160104002432   2016-01-04   \n",
       "3  7421966  https://www.airbnb.com/rooms/7421966  20160104002432   2016-01-04   \n",
       "4   278830   https://www.airbnb.com/rooms/278830  20160104002432   2016-01-04   \n",
       "\n",
       "                                  name  \\\n",
       "0         Stylish Queen Anne Apartment   \n",
       "1   Bright & Airy Queen Anne Apartment   \n",
       "2  New Modern House-Amazing water view   \n",
       "3                   Queen Anne Chateau   \n",
       "4       Charming craftsman 3 bdm house   \n",
       "\n",
       "                                             summary  \\\n",
       "0                                                NaN   \n",
       "1  Chemically sensitive? We've removed the irrita...   \n",
       "2  New modern house built in 2013.  Spectacular s...   \n",
       "3  A charming apartment that sits atop Queen Anne...   \n",
       "4  Cozy family craftman house in beautiful neighb...   \n",
       "\n",
       "                                               space  \\\n",
       "0  Make your self at home in this charming one-be...   \n",
       "1  Beautiful, hypoallergenic apartment in an extr...   \n",
       "2  Our house is modern, light and fresh with a wa...   \n",
       "3                                                NaN   \n",
       "4  Cozy family craftman house in beautiful neighb...   \n",
       "\n",
       "                                         description experiences_offered  \\\n",
       "0  Make your self at home in this charming one-be...                none   \n",
       "1  Chemically sensitive? We've removed the irrita...                none   \n",
       "2  New modern house built in 2013.  Spectacular s...                none   \n",
       "3  A charming apartment that sits atop Queen Anne...                none   \n",
       "4  Cozy family craftman house in beautiful neighb...                none   \n",
       "\n",
       "                               neighborhood_overview  ... review_scores_value  \\\n",
       "0                                                NaN  ...                10.0   \n",
       "1  Queen Anne is a wonderful, truly functional vi...  ...                10.0   \n",
       "2  Upper Queen Anne is a charming neighborhood fu...  ...                10.0   \n",
       "3                                                NaN  ...                 NaN   \n",
       "4  We are in the beautiful neighborhood of Queen ...  ...                 9.0   \n",
       "\n",
       "  requires_license license jurisdiction_names instant_bookable  \\\n",
       "0                f     NaN         WASHINGTON                f   \n",
       "1                f     NaN         WASHINGTON                f   \n",
       "2                f     NaN         WASHINGTON                f   \n",
       "3                f     NaN         WASHINGTON                f   \n",
       "4                f     NaN         WASHINGTON                f   \n",
       "\n",
       "  cancellation_policy  require_guest_profile_picture  \\\n",
       "0            moderate                              f   \n",
       "1              strict                              t   \n",
       "2              strict                              f   \n",
       "3            flexible                              f   \n",
       "4              strict                              f   \n",
       "\n",
       "  require_guest_phone_verification calculated_host_listings_count  \\\n",
       "0                                f                              2   \n",
       "1                                t                              6   \n",
       "2                                f                              2   \n",
       "3                                f                              1   \n",
       "4                                f                              1   \n",
       "\n",
       "  reviews_per_month  \n",
       "0              4.07  \n",
       "1              1.48  \n",
       "2              1.15  \n",
       "3               NaN  \n",
       "4              0.89  \n",
       "\n",
       "[5 rows x 92 columns]"
      ]
     },
     "execution_count": 4,
     "metadata": {},
     "output_type": "execute_result"
    }
   ],
   "source": [
    "lst.head()"
   ]
  },
  {
   "cell_type": "code",
   "execution_count": 5,
   "metadata": {},
   "outputs": [
    {
     "data": {
      "text/html": [
       "<div>\n",
       "<style scoped>\n",
       "    .dataframe tbody tr th:only-of-type {\n",
       "        vertical-align: middle;\n",
       "    }\n",
       "\n",
       "    .dataframe tbody tr th {\n",
       "        vertical-align: top;\n",
       "    }\n",
       "\n",
       "    .dataframe thead th {\n",
       "        text-align: right;\n",
       "    }\n",
       "</style>\n",
       "<table border=\"1\" class=\"dataframe\">\n",
       "  <thead>\n",
       "    <tr style=\"text-align: right;\">\n",
       "      <th></th>\n",
       "      <th>listing_id</th>\n",
       "      <th>date</th>\n",
       "      <th>available</th>\n",
       "      <th>price</th>\n",
       "    </tr>\n",
       "  </thead>\n",
       "  <tbody>\n",
       "    <tr>\n",
       "      <th>0</th>\n",
       "      <td>241032</td>\n",
       "      <td>2016-01-04</td>\n",
       "      <td>t</td>\n",
       "      <td>$85.00</td>\n",
       "    </tr>\n",
       "    <tr>\n",
       "      <th>1</th>\n",
       "      <td>241032</td>\n",
       "      <td>2016-01-05</td>\n",
       "      <td>t</td>\n",
       "      <td>$85.00</td>\n",
       "    </tr>\n",
       "    <tr>\n",
       "      <th>2</th>\n",
       "      <td>241032</td>\n",
       "      <td>2016-01-06</td>\n",
       "      <td>f</td>\n",
       "      <td>NaN</td>\n",
       "    </tr>\n",
       "    <tr>\n",
       "      <th>3</th>\n",
       "      <td>241032</td>\n",
       "      <td>2016-01-07</td>\n",
       "      <td>f</td>\n",
       "      <td>NaN</td>\n",
       "    </tr>\n",
       "    <tr>\n",
       "      <th>4</th>\n",
       "      <td>241032</td>\n",
       "      <td>2016-01-08</td>\n",
       "      <td>f</td>\n",
       "      <td>NaN</td>\n",
       "    </tr>\n",
       "  </tbody>\n",
       "</table>\n",
       "</div>"
      ],
      "text/plain": [
       "   listing_id       date available   price\n",
       "0      241032 2016-01-04         t  $85.00\n",
       "1      241032 2016-01-05         t  $85.00\n",
       "2      241032 2016-01-06         f     NaN\n",
       "3      241032 2016-01-07         f     NaN\n",
       "4      241032 2016-01-08         f     NaN"
      ]
     },
     "execution_count": 5,
     "metadata": {},
     "output_type": "execute_result"
    }
   ],
   "source": [
    "cal.head()"
   ]
  },
  {
   "cell_type": "code",
   "execution_count": 6,
   "metadata": {},
   "outputs": [
    {
     "data": {
      "text/html": [
       "<div>\n",
       "<style scoped>\n",
       "    .dataframe tbody tr th:only-of-type {\n",
       "        vertical-align: middle;\n",
       "    }\n",
       "\n",
       "    .dataframe tbody tr th {\n",
       "        vertical-align: top;\n",
       "    }\n",
       "\n",
       "    .dataframe thead th {\n",
       "        text-align: right;\n",
       "    }\n",
       "</style>\n",
       "<table border=\"1\" class=\"dataframe\">\n",
       "  <thead>\n",
       "    <tr style=\"text-align: right;\">\n",
       "      <th></th>\n",
       "      <th>listing_id</th>\n",
       "      <th>id</th>\n",
       "      <th>date</th>\n",
       "      <th>reviewer_id</th>\n",
       "      <th>reviewer_name</th>\n",
       "      <th>comments</th>\n",
       "    </tr>\n",
       "  </thead>\n",
       "  <tbody>\n",
       "    <tr>\n",
       "      <th>0</th>\n",
       "      <td>7202016</td>\n",
       "      <td>38917982</td>\n",
       "      <td>2015-07-19</td>\n",
       "      <td>28943674</td>\n",
       "      <td>Bianca</td>\n",
       "      <td>Cute and cozy place. Perfect location to every...</td>\n",
       "    </tr>\n",
       "    <tr>\n",
       "      <th>1</th>\n",
       "      <td>7202016</td>\n",
       "      <td>39087409</td>\n",
       "      <td>2015-07-20</td>\n",
       "      <td>32440555</td>\n",
       "      <td>Frank</td>\n",
       "      <td>Kelly has a great room in a very central locat...</td>\n",
       "    </tr>\n",
       "    <tr>\n",
       "      <th>2</th>\n",
       "      <td>7202016</td>\n",
       "      <td>39820030</td>\n",
       "      <td>2015-07-26</td>\n",
       "      <td>37722850</td>\n",
       "      <td>Ian</td>\n",
       "      <td>Very spacious apartment, and in a great neighb...</td>\n",
       "    </tr>\n",
       "    <tr>\n",
       "      <th>3</th>\n",
       "      <td>7202016</td>\n",
       "      <td>40813543</td>\n",
       "      <td>2015-08-02</td>\n",
       "      <td>33671805</td>\n",
       "      <td>George</td>\n",
       "      <td>Close to Seattle Center and all it has to offe...</td>\n",
       "    </tr>\n",
       "    <tr>\n",
       "      <th>4</th>\n",
       "      <td>7202016</td>\n",
       "      <td>41986501</td>\n",
       "      <td>2015-08-10</td>\n",
       "      <td>34959538</td>\n",
       "      <td>Ming</td>\n",
       "      <td>Kelly was a great host and very accommodating ...</td>\n",
       "    </tr>\n",
       "  </tbody>\n",
       "</table>\n",
       "</div>"
      ],
      "text/plain": [
       "   listing_id        id        date  reviewer_id reviewer_name  \\\n",
       "0     7202016  38917982  2015-07-19     28943674        Bianca   \n",
       "1     7202016  39087409  2015-07-20     32440555         Frank   \n",
       "2     7202016  39820030  2015-07-26     37722850           Ian   \n",
       "3     7202016  40813543  2015-08-02     33671805        George   \n",
       "4     7202016  41986501  2015-08-10     34959538          Ming   \n",
       "\n",
       "                                            comments  \n",
       "0  Cute and cozy place. Perfect location to every...  \n",
       "1  Kelly has a great room in a very central locat...  \n",
       "2  Very spacious apartment, and in a great neighb...  \n",
       "3  Close to Seattle Center and all it has to offe...  \n",
       "4  Kelly was a great host and very accommodating ...  "
      ]
     },
     "execution_count": 6,
     "metadata": {},
     "output_type": "execute_result"
    }
   ],
   "source": [
    "revws.head()"
   ]
  },
  {
   "cell_type": "code",
   "execution_count": 7,
   "metadata": {},
   "outputs": [
    {
     "data": {
      "text/plain": [
       "Index(['id', 'listing_url', 'scrape_id', 'last_scraped', 'name', 'summary',\n",
       "       'space', 'description', 'experiences_offered', 'neighborhood_overview',\n",
       "       'notes', 'transit', 'thumbnail_url', 'medium_url', 'picture_url',\n",
       "       'xl_picture_url', 'host_id', 'host_url', 'host_name', 'host_since',\n",
       "       'host_location', 'host_about', 'host_response_time',\n",
       "       'host_response_rate', 'host_acceptance_rate', 'host_is_superhost',\n",
       "       'host_thumbnail_url', 'host_picture_url', 'host_neighbourhood',\n",
       "       'host_listings_count', 'host_total_listings_count',\n",
       "       'host_verifications', 'host_has_profile_pic', 'host_identity_verified',\n",
       "       'street', 'neighbourhood', 'neighbourhood_cleansed',\n",
       "       'neighbourhood_group_cleansed', 'city', 'state', 'zipcode', 'market',\n",
       "       'smart_location', 'country_code', 'country', 'latitude', 'longitude',\n",
       "       'is_location_exact', 'property_type', 'room_type', 'accommodates',\n",
       "       'bathrooms', 'bedrooms', 'beds', 'bed_type', 'amenities', 'square_feet',\n",
       "       'price', 'weekly_price', 'monthly_price', 'security_deposit',\n",
       "       'cleaning_fee', 'guests_included', 'extra_people', 'minimum_nights',\n",
       "       'maximum_nights', 'calendar_updated', 'has_availability',\n",
       "       'availability_30', 'availability_60', 'availability_90',\n",
       "       'availability_365', 'calendar_last_scraped', 'number_of_reviews',\n",
       "       'first_review', 'last_review', 'review_scores_rating',\n",
       "       'review_scores_accuracy', 'review_scores_cleanliness',\n",
       "       'review_scores_checkin', 'review_scores_communication',\n",
       "       'review_scores_location', 'review_scores_value', 'requires_license',\n",
       "       'license', 'jurisdiction_names', 'instant_bookable',\n",
       "       'cancellation_policy', 'require_guest_profile_picture',\n",
       "       'require_guest_phone_verification', 'calculated_host_listings_count',\n",
       "       'reviews_per_month'],\n",
       "      dtype='object')"
      ]
     },
     "execution_count": 7,
     "metadata": {},
     "output_type": "execute_result"
    }
   ],
   "source": [
    "lst.columns"
   ]
  },
  {
   "cell_type": "raw",
   "metadata": {},
   "source": [
    "Seems lot of columns in the dataset and not necessary towards objective. I should need to study and consider what are real factors that can make useful insights towards the objective."
   ]
  },
  {
   "cell_type": "markdown",
   "metadata": {},
   "source": [
    "# Listing Dataset and selected features"
   ]
  },
  {
   "cell_type": "code",
   "execution_count": 9,
   "metadata": {},
   "outputs": [],
   "source": [
    "listings= pd.DataFrame(lst[['id','host_is_superhost',\n",
    "      'neighbourhood', 'property_type',\n",
    "       'room_type', 'accommodates', 'bathrooms', 'bedrooms','amenities', 'price',\n",
    "        'number_of_reviews', 'review_scores_rating',\n",
    "         'cancellation_policy',\n",
    "       'reviews_per_month','neighbourhood_group_cleansed']])"
   ]
  },
  {
   "cell_type": "code",
   "execution_count": 13,
   "metadata": {},
   "outputs": [
    {
     "data": {
      "text/plain": [
       "listing_id    0.00000\n",
       "date          0.00000\n",
       "available     0.00000\n",
       "price         0.32939\n",
       "dtype: float64"
      ]
     },
     "execution_count": 13,
     "metadata": {},
     "output_type": "execute_result"
    }
   ],
   "source": [
    "# Response varible with missing percentage of data\n",
    "cal.isna().sum()/cal.shape[0]"
   ]
  },
  {
   "cell_type": "markdown",
   "metadata": {},
   "source": [
    "It seems 33% of data is missing in price attribute, by this I can say 67% data will be considerable. Let me verify from here."
   ]
  },
  {
   "cell_type": "code",
   "execution_count": 14,
   "metadata": {},
   "outputs": [
    {
     "name": "stdout",
     "output_type": "stream",
     "text": [
      "2016-01-04 00:00:00\n",
      "2017-01-02 00:00:00\n"
     ]
    }
   ],
   "source": [
    "#Need to conisder of date range \n",
    "print(pd.to_datetime(cal['date'].min()))\n",
    "print(pd.to_datetime(cal['date'].max()))"
   ]
  },
  {
   "cell_type": "markdown",
   "metadata": {},
   "source": [
    "During data wrangling need to sure about data types and missing percentage of data "
   ]
  },
  {
   "cell_type": "code",
   "execution_count": 34,
   "metadata": {},
   "outputs": [
    {
     "name": "stdout",
     "output_type": "stream",
     "text": [
      "Number of columns with missing data: 7\n"
     ]
    },
    {
     "data": {
      "text/html": [
       "<div>\n",
       "<style scoped>\n",
       "    .dataframe tbody tr th:only-of-type {\n",
       "        vertical-align: middle;\n",
       "    }\n",
       "\n",
       "    .dataframe tbody tr th {\n",
       "        vertical-align: top;\n",
       "    }\n",
       "\n",
       "    .dataframe thead th {\n",
       "        text-align: right;\n",
       "    }\n",
       "</style>\n",
       "<table border=\"1\" class=\"dataframe\">\n",
       "  <thead>\n",
       "    <tr style=\"text-align: right;\">\n",
       "      <th></th>\n",
       "      <th>#Nulls</th>\n",
       "      <th>%Nulls</th>\n",
       "    </tr>\n",
       "  </thead>\n",
       "  <tbody>\n",
       "    <tr>\n",
       "      <th>review_scores_rating</th>\n",
       "      <td>647</td>\n",
       "      <td>16.946045</td>\n",
       "    </tr>\n",
       "    <tr>\n",
       "      <th>reviews_per_month</th>\n",
       "      <td>627</td>\n",
       "      <td>16.422211</td>\n",
       "    </tr>\n",
       "    <tr>\n",
       "      <th>neighbourhood</th>\n",
       "      <td>416</td>\n",
       "      <td>10.895757</td>\n",
       "    </tr>\n",
       "    <tr>\n",
       "      <th>bathrooms</th>\n",
       "      <td>16</td>\n",
       "      <td>0.419068</td>\n",
       "    </tr>\n",
       "    <tr>\n",
       "      <th>bedrooms</th>\n",
       "      <td>6</td>\n",
       "      <td>0.157150</td>\n",
       "    </tr>\n",
       "    <tr>\n",
       "      <th>host_is_superhost</th>\n",
       "      <td>2</td>\n",
       "      <td>0.052383</td>\n",
       "    </tr>\n",
       "    <tr>\n",
       "      <th>property_type</th>\n",
       "      <td>1</td>\n",
       "      <td>0.026192</td>\n",
       "    </tr>\n",
       "  </tbody>\n",
       "</table>\n",
       "</div>"
      ],
      "text/plain": [
       "                      #Nulls     %Nulls\n",
       "review_scores_rating     647  16.946045\n",
       "reviews_per_month        627  16.422211\n",
       "neighbourhood            416  10.895757\n",
       "bathrooms                 16   0.419068\n",
       "bedrooms                   6   0.157150\n",
       "host_is_superhost          2   0.052383\n",
       "property_type              1   0.026192"
      ]
     },
     "execution_count": 34,
     "metadata": {},
     "output_type": "execute_result"
    }
   ],
   "source": [
    "def get_null_col(df):\n",
    "    null_col = df.columns[df.isna().sum()>0]\n",
    "    col_null_val = df[null_col].isna().sum().sort_values(ascending=False)\n",
    "    per_null_val = (df[null_col].isna().sum()/df.shape[0]*100).sort_values(ascending=False)\n",
    "    nulls_df = pd.DataFrame(col_null_val,columns=['#Nulls'])\n",
    "    nulls_df['%Nulls']=per_null_val\n",
    "    print('Number of columns with missing data:',nulls_df.shape[0])\n",
    "    return nulls_df\n",
    "\n",
    "get_null_col(listings)"
   ]
  },
  {
   "cell_type": "markdown",
   "metadata": {},
   "source": [
    "Dropping review_scores_rating since we have reviews_per_month.\n",
    "\n",
    "Dropping off neighbourhood as we have similar neighbourhood_cleansed factor adn with less missing elements and richful information too."
   ]
  },
  {
   "cell_type": "code",
   "execution_count": 17,
   "metadata": {},
   "outputs": [],
   "source": [
    "listings.drop(['review_scores_rating','neighbourhood'], axis=1, inplace=True)"
   ]
  },
  {
   "cell_type": "code",
   "execution_count": 18,
   "metadata": {},
   "outputs": [
    {
     "data": {
      "text/plain": [
       "id                                int64\n",
       "host_is_superhost                object\n",
       "property_type                    object\n",
       "room_type                        object\n",
       "accommodates                      int64\n",
       "bathrooms                       float64\n",
       "bedrooms                        float64\n",
       "amenities                        object\n",
       "price                            object\n",
       "number_of_reviews                 int64\n",
       "cancellation_policy              object\n",
       "reviews_per_month               float64\n",
       "neighbourhood_group_cleansed     object\n",
       "dtype: object"
      ]
     },
     "execution_count": 18,
     "metadata": {},
     "output_type": "execute_result"
    }
   ],
   "source": [
    "listings.dtypes"
   ]
  },
  {
   "cell_type": "markdown",
   "metadata": {},
   "source": [
    "bathroom, bedroom and host_is_superhost and property_type can be imputed with the mode"
   ]
  },
  {
   "cell_type": "code",
   "execution_count": 19,
   "metadata": {},
   "outputs": [],
   "source": [
    "mode= listings.filter(['bathrooms','bedrooms','host_is_superhost','property_type']).mode()\n",
    "col= ['bathrooms','bedrooms','host_is_superhost','property_type']\n",
    "listings[col]=listings[col].fillna(listings.mode().iloc[0])"
   ]
  },
  {
   "cell_type": "code",
   "execution_count": 20,
   "metadata": {},
   "outputs": [],
   "source": [
    "listings['reviews_per_month'].fillna((listings['reviews_per_month'].median()), inplace= True)"
   ]
  },
  {
   "cell_type": "markdown",
   "metadata": {},
   "source": [
    "distribution of reviews_per_month will answer either mean or median will fit for the data"
   ]
  },
  {
   "cell_type": "code",
   "execution_count": 24,
   "metadata": {},
   "outputs": [
    {
     "data": {
      "image/png": "[encoded data removed]",
      "text/plain": [
       "<Figure size 432x288 with 1 Axes>"
      ]
     },
     "metadata": {
      "needs_background": "light"
     },
     "output_type": "display_data"
    }
   ],
   "source": [
    "sns.distplot(listings['reviews_per_month'])\n",
    "plt.show()"
   ]
  },
  {
   "cell_type": "markdown",
   "metadata": {},
   "source": [
    "the data is right skewed, and it would be good to use median for imputation"
   ]
  },
  {
   "cell_type": "code",
   "execution_count": 25,
   "metadata": {},
   "outputs": [],
   "source": [
    "listings['reviews_per_month'].fillna((listings['reviews_per_month'].median()), inplace= True)"
   ]
  },
  {
   "cell_type": "code",
   "execution_count": 26,
   "metadata": {},
   "outputs": [
    {
     "data": {
      "text/html": [
       "<div>\n",
       "<style scoped>\n",
       "    .dataframe tbody tr th:only-of-type {\n",
       "        vertical-align: middle;\n",
       "    }\n",
       "\n",
       "    .dataframe tbody tr th {\n",
       "        vertical-align: top;\n",
       "    }\n",
       "\n",
       "    .dataframe thead th {\n",
       "        text-align: right;\n",
       "    }\n",
       "</style>\n",
       "<table border=\"1\" class=\"dataframe\">\n",
       "  <thead>\n",
       "    <tr style=\"text-align: right;\">\n",
       "      <th></th>\n",
       "      <th>id</th>\n",
       "      <th>host_is_superhost</th>\n",
       "      <th>property_type</th>\n",
       "      <th>room_type</th>\n",
       "      <th>accommodates</th>\n",
       "      <th>bathrooms</th>\n",
       "      <th>bedrooms</th>\n",
       "      <th>amenities</th>\n",
       "      <th>price</th>\n",
       "      <th>number_of_reviews</th>\n",
       "      <th>cancellation_policy</th>\n",
       "      <th>reviews_per_month</th>\n",
       "      <th>neighbourhood_group_cleansed</th>\n",
       "    </tr>\n",
       "  </thead>\n",
       "  <tbody>\n",
       "    <tr>\n",
       "      <th>0</th>\n",
       "      <td>241032</td>\n",
       "      <td>f</td>\n",
       "      <td>Apartment</td>\n",
       "      <td>Entire home/apt</td>\n",
       "      <td>4</td>\n",
       "      <td>1.0</td>\n",
       "      <td>1.0</td>\n",
       "      <td>{TV,\"Cable TV\",Internet,\"Wireless Internet\",\"A...</td>\n",
       "      <td>$85.00</td>\n",
       "      <td>207</td>\n",
       "      <td>moderate</td>\n",
       "      <td>4.07</td>\n",
       "      <td>Queen Anne</td>\n",
       "    </tr>\n",
       "    <tr>\n",
       "      <th>1</th>\n",
       "      <td>953595</td>\n",
       "      <td>t</td>\n",
       "      <td>Apartment</td>\n",
       "      <td>Entire home/apt</td>\n",
       "      <td>4</td>\n",
       "      <td>1.0</td>\n",
       "      <td>1.0</td>\n",
       "      <td>{TV,Internet,\"Wireless Internet\",Kitchen,\"Free...</td>\n",
       "      <td>$150.00</td>\n",
       "      <td>43</td>\n",
       "      <td>strict</td>\n",
       "      <td>1.48</td>\n",
       "      <td>Queen Anne</td>\n",
       "    </tr>\n",
       "    <tr>\n",
       "      <th>2</th>\n",
       "      <td>3308979</td>\n",
       "      <td>f</td>\n",
       "      <td>House</td>\n",
       "      <td>Entire home/apt</td>\n",
       "      <td>11</td>\n",
       "      <td>4.5</td>\n",
       "      <td>5.0</td>\n",
       "      <td>{TV,\"Cable TV\",Internet,\"Wireless Internet\",\"A...</td>\n",
       "      <td>$975.00</td>\n",
       "      <td>20</td>\n",
       "      <td>strict</td>\n",
       "      <td>1.15</td>\n",
       "      <td>Queen Anne</td>\n",
       "    </tr>\n",
       "    <tr>\n",
       "      <th>3</th>\n",
       "      <td>7421966</td>\n",
       "      <td>f</td>\n",
       "      <td>Apartment</td>\n",
       "      <td>Entire home/apt</td>\n",
       "      <td>3</td>\n",
       "      <td>1.0</td>\n",
       "      <td>0.0</td>\n",
       "      <td>{Internet,\"Wireless Internet\",Kitchen,\"Indoor ...</td>\n",
       "      <td>$100.00</td>\n",
       "      <td>0</td>\n",
       "      <td>flexible</td>\n",
       "      <td>1.54</td>\n",
       "      <td>Queen Anne</td>\n",
       "    </tr>\n",
       "    <tr>\n",
       "      <th>4</th>\n",
       "      <td>278830</td>\n",
       "      <td>f</td>\n",
       "      <td>House</td>\n",
       "      <td>Entire home/apt</td>\n",
       "      <td>6</td>\n",
       "      <td>2.0</td>\n",
       "      <td>3.0</td>\n",
       "      <td>{TV,\"Cable TV\",Internet,\"Wireless Internet\",Ki...</td>\n",
       "      <td>$450.00</td>\n",
       "      <td>38</td>\n",
       "      <td>strict</td>\n",
       "      <td>0.89</td>\n",
       "      <td>Queen Anne</td>\n",
       "    </tr>\n",
       "  </tbody>\n",
       "</table>\n",
       "</div>"
      ],
      "text/plain": [
       "        id host_is_superhost property_type        room_type  accommodates  \\\n",
       "0   241032                 f     Apartment  Entire home/apt             4   \n",
       "1   953595                 t     Apartment  Entire home/apt             4   \n",
       "2  3308979                 f         House  Entire home/apt            11   \n",
       "3  7421966                 f     Apartment  Entire home/apt             3   \n",
       "4   278830                 f         House  Entire home/apt             6   \n",
       "\n",
       "   bathrooms  bedrooms                                          amenities  \\\n",
       "0        1.0       1.0  {TV,\"Cable TV\",Internet,\"Wireless Internet\",\"A...   \n",
       "1        1.0       1.0  {TV,Internet,\"Wireless Internet\",Kitchen,\"Free...   \n",
       "2        4.5       5.0  {TV,\"Cable TV\",Internet,\"Wireless Internet\",\"A...   \n",
       "3        1.0       0.0  {Internet,\"Wireless Internet\",Kitchen,\"Indoor ...   \n",
       "4        2.0       3.0  {TV,\"Cable TV\",Internet,\"Wireless Internet\",Ki...   \n",
       "\n",
       "     price  number_of_reviews cancellation_policy  reviews_per_month  \\\n",
       "0   $85.00                207            moderate               4.07   \n",
       "1  $150.00                 43              strict               1.48   \n",
       "2  $975.00                 20              strict               1.15   \n",
       "3  $100.00                  0            flexible               1.54   \n",
       "4  $450.00                 38              strict               0.89   \n",
       "\n",
       "  neighbourhood_group_cleansed  \n",
       "0                   Queen Anne  \n",
       "1                   Queen Anne  \n",
       "2                   Queen Anne  \n",
       "3                   Queen Anne  \n",
       "4                   Queen Anne  "
      ]
     },
     "execution_count": 26,
     "metadata": {},
     "output_type": "execute_result"
    }
   ],
   "source": [
    "listings.head()"
   ]
  },
  {
   "cell_type": "markdown",
   "metadata": {},
   "source": [
    "$ sign should remove from price attribute"
   ]
  },
  {
   "cell_type": "markdown",
   "metadata": {},
   "source": [
    "# Price variable Cleaning"
   ]
  },
  {
   "cell_type": "code",
   "execution_count": 27,
   "metadata": {},
   "outputs": [],
   "source": [
    "def clean_price(price):\n",
    "    try:\n",
    "        return float(sub(r'[^\\d.]', '', price))\n",
    "    except:\n",
    "        return float(price)\n",
    "listings['price'] = listings['price'].map(clean_price)\n",
    "cal['price'] = cal['price'].map(clean_price)"
   ]
  },
  {
   "cell_type": "code",
   "execution_count": 28,
   "metadata": {},
   "outputs": [
    {
     "name": "stdout",
     "output_type": "stream",
     "text": [
      "<class 'pandas.core.frame.DataFrame'>\n",
      "RangeIndex: 1393570 entries, 0 to 1393569\n",
      "Data columns (total 4 columns):\n",
      " #   Column      Non-Null Count    Dtype         \n",
      "---  ------      --------------    -----         \n",
      " 0   listing_id  1393570 non-null  int64         \n",
      " 1   date        1393570 non-null  datetime64[ns]\n",
      " 2   available   1393570 non-null  object        \n",
      " 3   price       934542 non-null   float64       \n",
      "dtypes: datetime64[ns](1), float64(1), int64(1), object(1)\n",
      "memory usage: 42.5+ MB\n"
     ]
    }
   ],
   "source": [
    "cal.info()"
   ]
  },
  {
   "cell_type": "code",
   "execution_count": 29,
   "metadata": {},
   "outputs": [],
   "source": [
    "cal['date'] = pd.to_datetime(cal['date'] )\n",
    "\n",
    "#Computing the day of week\n",
    "cal['dayofweek'] = cal['date'].apply(lambda x: x.day_name())\n",
    "\n",
    "#Computing the month of the year\n",
    "cal['month'] = cal['date'].apply(lambda x: x.month)\n",
    "\n",
    "#Converting available to a boolean column\n",
    "cal['available'] = cal['available'].apply(lambda x: x == 't')"
   ]
  },
  {
   "cell_type": "code",
   "execution_count": 30,
   "metadata": {},
   "outputs": [
    {
     "data": {
      "text/html": [
       "<div>\n",
       "<style scoped>\n",
       "    .dataframe tbody tr th:only-of-type {\n",
       "        vertical-align: middle;\n",
       "    }\n",
       "\n",
       "    .dataframe tbody tr th {\n",
       "        vertical-align: top;\n",
       "    }\n",
       "\n",
       "    .dataframe thead th {\n",
       "        text-align: right;\n",
       "    }\n",
       "</style>\n",
       "<table border=\"1\" class=\"dataframe\">\n",
       "  <thead>\n",
       "    <tr style=\"text-align: right;\">\n",
       "      <th></th>\n",
       "      <th>listing_id</th>\n",
       "      <th>date</th>\n",
       "      <th>available</th>\n",
       "      <th>price</th>\n",
       "      <th>dayofweek</th>\n",
       "      <th>month</th>\n",
       "    </tr>\n",
       "  </thead>\n",
       "  <tbody>\n",
       "    <tr>\n",
       "      <th>0</th>\n",
       "      <td>241032</td>\n",
       "      <td>2016-01-04</td>\n",
       "      <td>True</td>\n",
       "      <td>85.0</td>\n",
       "      <td>Monday</td>\n",
       "      <td>1</td>\n",
       "    </tr>\n",
       "    <tr>\n",
       "      <th>1</th>\n",
       "      <td>241032</td>\n",
       "      <td>2016-01-05</td>\n",
       "      <td>True</td>\n",
       "      <td>85.0</td>\n",
       "      <td>Tuesday</td>\n",
       "      <td>1</td>\n",
       "    </tr>\n",
       "    <tr>\n",
       "      <th>2</th>\n",
       "      <td>241032</td>\n",
       "      <td>2016-01-06</td>\n",
       "      <td>False</td>\n",
       "      <td>NaN</td>\n",
       "      <td>Wednesday</td>\n",
       "      <td>1</td>\n",
       "    </tr>\n",
       "    <tr>\n",
       "      <th>3</th>\n",
       "      <td>241032</td>\n",
       "      <td>2016-01-07</td>\n",
       "      <td>False</td>\n",
       "      <td>NaN</td>\n",
       "      <td>Thursday</td>\n",
       "      <td>1</td>\n",
       "    </tr>\n",
       "    <tr>\n",
       "      <th>4</th>\n",
       "      <td>241032</td>\n",
       "      <td>2016-01-08</td>\n",
       "      <td>False</td>\n",
       "      <td>NaN</td>\n",
       "      <td>Friday</td>\n",
       "      <td>1</td>\n",
       "    </tr>\n",
       "  </tbody>\n",
       "</table>\n",
       "</div>"
      ],
      "text/plain": [
       "   listing_id       date  available  price  dayofweek  month\n",
       "0      241032 2016-01-04       True   85.0     Monday      1\n",
       "1      241032 2016-01-05       True   85.0    Tuesday      1\n",
       "2      241032 2016-01-06      False    NaN  Wednesday      1\n",
       "3      241032 2016-01-07      False    NaN   Thursday      1\n",
       "4      241032 2016-01-08      False    NaN     Friday      1"
      ]
     },
     "execution_count": 30,
     "metadata": {},
     "output_type": "execute_result"
    }
   ],
   "source": [
    "cal.head()"
   ]
  },
  {
   "cell_type": "code",
   "execution_count": 31,
   "metadata": {},
   "outputs": [
    {
     "data": {
      "text/html": [
       "<div>\n",
       "<style scoped>\n",
       "    .dataframe tbody tr th:only-of-type {\n",
       "        vertical-align: middle;\n",
       "    }\n",
       "\n",
       "    .dataframe tbody tr th {\n",
       "        vertical-align: top;\n",
       "    }\n",
       "\n",
       "    .dataframe thead th {\n",
       "        text-align: right;\n",
       "    }\n",
       "</style>\n",
       "<table border=\"1\" class=\"dataframe\">\n",
       "  <thead>\n",
       "    <tr style=\"text-align: right;\">\n",
       "      <th></th>\n",
       "      <th>available</th>\n",
       "    </tr>\n",
       "    <tr>\n",
       "      <th>dayofweek</th>\n",
       "      <th></th>\n",
       "    </tr>\n",
       "  </thead>\n",
       "  <tbody>\n",
       "    <tr>\n",
       "      <th>Friday</th>\n",
       "      <td>0.668911</td>\n",
       "    </tr>\n",
       "    <tr>\n",
       "      <th>Monday</th>\n",
       "      <td>0.671101</td>\n",
       "    </tr>\n",
       "    <tr>\n",
       "      <th>Saturday</th>\n",
       "      <td>0.667758</td>\n",
       "    </tr>\n",
       "    <tr>\n",
       "      <th>Sunday</th>\n",
       "      <td>0.673001</td>\n",
       "    </tr>\n",
       "    <tr>\n",
       "      <th>Thursday</th>\n",
       "      <td>0.669743</td>\n",
       "    </tr>\n",
       "    <tr>\n",
       "      <th>Tuesday</th>\n",
       "      <td>0.671954</td>\n",
       "    </tr>\n",
       "    <tr>\n",
       "      <th>Wednesday</th>\n",
       "      <td>0.671793</td>\n",
       "    </tr>\n",
       "  </tbody>\n",
       "</table>\n",
       "</div>"
      ],
      "text/plain": [
       "           available\n",
       "dayofweek           \n",
       "Friday      0.668911\n",
       "Monday      0.671101\n",
       "Saturday    0.667758\n",
       "Sunday      0.673001\n",
       "Thursday    0.669743\n",
       "Tuesday     0.671954\n",
       "Wednesday   0.671793"
      ]
     },
     "execution_count": 31,
     "metadata": {},
     "output_type": "execute_result"
    }
   ],
   "source": [
    "cal.groupby('dayofweek').mean()[['available']]"
   ]
  },
  {
   "cell_type": "markdown",
   "metadata": {},
   "source": [
    "Seems no change in all the days"
   ]
  },
  {
   "cell_type": "code",
   "execution_count": 32,
   "metadata": {},
   "outputs": [
    {
     "data": {
      "text/plain": [
       "neighbourhood_group_cleansed\n",
       "Interbay               0.845330\n",
       "Magnolia               0.774669\n",
       "Lake City              0.768800\n",
       "Delridge               0.747182\n",
       "University District    0.744397\n",
       "Northgate              0.722774\n",
       "Beacon Hill            0.702809\n",
       "West Seattle           0.701127\n",
       "Ballard                0.692257\n",
       "Seward Park            0.680012\n",
       "Central Area           0.672354\n",
       "Other neighborhoods    0.671685\n",
       "Rainier Valley         0.670526\n",
       "Downtown               0.649910\n",
       "Capitol Hill           0.641048\n",
       "Queen Anne             0.620423\n",
       "Cascade                0.576174\n",
       "Name: available, dtype: float64"
      ]
     },
     "execution_count": 32,
     "metadata": {},
     "output_type": "execute_result"
    }
   ],
   "source": [
    "pd.merge(cal,listings[['id','neighbourhood_group_cleansed']], left_on = 'listing_id', right_on = 'id').groupby('neighbourhood_group_cleansed').mean().sort_values('available', ascending = False)['available']"
   ]
  },
  {
   "cell_type": "code",
   "execution_count": 33,
   "metadata": {},
   "outputs": [
    {
     "data": {
      "text/html": [
       "<div>\n",
       "<style scoped>\n",
       "    .dataframe tbody tr th:only-of-type {\n",
       "        vertical-align: middle;\n",
       "    }\n",
       "\n",
       "    .dataframe tbody tr th {\n",
       "        vertical-align: top;\n",
       "    }\n",
       "\n",
       "    .dataframe thead th {\n",
       "        text-align: right;\n",
       "    }\n",
       "</style>\n",
       "<table border=\"1\" class=\"dataframe\">\n",
       "  <thead>\n",
       "    <tr style=\"text-align: right;\">\n",
       "      <th>dayofweek</th>\n",
       "      <th>Friday</th>\n",
       "      <th>Monday</th>\n",
       "      <th>Saturday</th>\n",
       "      <th>Sunday</th>\n",
       "      <th>Thursday</th>\n",
       "      <th>Tuesday</th>\n",
       "      <th>Wednesday</th>\n",
       "    </tr>\n",
       "    <tr>\n",
       "      <th>neighbourhood_group_cleansed</th>\n",
       "      <th></th>\n",
       "      <th></th>\n",
       "      <th></th>\n",
       "      <th></th>\n",
       "      <th></th>\n",
       "      <th></th>\n",
       "      <th></th>\n",
       "    </tr>\n",
       "  </thead>\n",
       "  <tbody>\n",
       "    <tr>\n",
       "      <th>Ballard</th>\n",
       "      <td>0.685953</td>\n",
       "      <td>0.694586</td>\n",
       "      <td>0.684365</td>\n",
       "      <td>0.693395</td>\n",
       "      <td>0.691806</td>\n",
       "      <td>0.697241</td>\n",
       "      <td>0.698411</td>\n",
       "    </tr>\n",
       "    <tr>\n",
       "      <th>Beacon Hill</th>\n",
       "      <td>0.699153</td>\n",
       "      <td>0.703230</td>\n",
       "      <td>0.697360</td>\n",
       "      <td>0.701923</td>\n",
       "      <td>0.704205</td>\n",
       "      <td>0.707790</td>\n",
       "      <td>0.705997</td>\n",
       "    </tr>\n",
       "    <tr>\n",
       "      <th>Capitol Hill</th>\n",
       "      <td>0.642552</td>\n",
       "      <td>0.640378</td>\n",
       "      <td>0.641602</td>\n",
       "      <td>0.643942</td>\n",
       "      <td>0.640144</td>\n",
       "      <td>0.639601</td>\n",
       "      <td>0.639126</td>\n",
       "    </tr>\n",
       "    <tr>\n",
       "      <th>Cascade</th>\n",
       "      <td>0.572602</td>\n",
       "      <td>0.574942</td>\n",
       "      <td>0.572169</td>\n",
       "      <td>0.576491</td>\n",
       "      <td>0.577139</td>\n",
       "      <td>0.579948</td>\n",
       "      <td>0.579948</td>\n",
       "    </tr>\n",
       "    <tr>\n",
       "      <th>Central Area</th>\n",
       "      <td>0.668022</td>\n",
       "      <td>0.675308</td>\n",
       "      <td>0.667136</td>\n",
       "      <td>0.675005</td>\n",
       "      <td>0.672035</td>\n",
       "      <td>0.675005</td>\n",
       "      <td>0.673911</td>\n",
       "    </tr>\n",
       "    <tr>\n",
       "      <th>Delridge</th>\n",
       "      <td>0.749757</td>\n",
       "      <td>0.742298</td>\n",
       "      <td>0.750000</td>\n",
       "      <td>0.747809</td>\n",
       "      <td>0.746592</td>\n",
       "      <td>0.746105</td>\n",
       "      <td>0.747809</td>\n",
       "    </tr>\n",
       "    <tr>\n",
       "      <th>Downtown</th>\n",
       "      <td>0.646226</td>\n",
       "      <td>0.652581</td>\n",
       "      <td>0.645646</td>\n",
       "      <td>0.655733</td>\n",
       "      <td>0.646154</td>\n",
       "      <td>0.652721</td>\n",
       "      <td>0.650254</td>\n",
       "    </tr>\n",
       "    <tr>\n",
       "      <th>Interbay</th>\n",
       "      <td>0.844406</td>\n",
       "      <td>0.843911</td>\n",
       "      <td>0.846154</td>\n",
       "      <td>0.847902</td>\n",
       "      <td>0.844406</td>\n",
       "      <td>0.844406</td>\n",
       "      <td>0.846154</td>\n",
       "    </tr>\n",
       "    <tr>\n",
       "      <th>Lake City</th>\n",
       "      <td>0.767509</td>\n",
       "      <td>0.765981</td>\n",
       "      <td>0.764925</td>\n",
       "      <td>0.768657</td>\n",
       "      <td>0.772962</td>\n",
       "      <td>0.767796</td>\n",
       "      <td>0.773823</td>\n",
       "    </tr>\n",
       "    <tr>\n",
       "      <th>Magnolia</th>\n",
       "      <td>0.773014</td>\n",
       "      <td>0.776059</td>\n",
       "      <td>0.773960</td>\n",
       "      <td>0.775536</td>\n",
       "      <td>0.773644</td>\n",
       "      <td>0.775221</td>\n",
       "      <td>0.775221</td>\n",
       "    </tr>\n",
       "    <tr>\n",
       "      <th>Northgate</th>\n",
       "      <td>0.720673</td>\n",
       "      <td>0.723349</td>\n",
       "      <td>0.720433</td>\n",
       "      <td>0.724519</td>\n",
       "      <td>0.722115</td>\n",
       "      <td>0.724760</td>\n",
       "      <td>0.723558</td>\n",
       "    </tr>\n",
       "    <tr>\n",
       "      <th>Other neighborhoods</th>\n",
       "      <td>0.671042</td>\n",
       "      <td>0.671095</td>\n",
       "      <td>0.668233</td>\n",
       "      <td>0.672132</td>\n",
       "      <td>0.672520</td>\n",
       "      <td>0.672714</td>\n",
       "      <td>0.674070</td>\n",
       "    </tr>\n",
       "    <tr>\n",
       "      <th>Queen Anne</th>\n",
       "      <td>0.619622</td>\n",
       "      <td>0.621298</td>\n",
       "      <td>0.619557</td>\n",
       "      <td>0.624837</td>\n",
       "      <td>0.617536</td>\n",
       "      <td>0.620469</td>\n",
       "      <td>0.619622</td>\n",
       "    </tr>\n",
       "    <tr>\n",
       "      <th>Rainier Valley</th>\n",
       "      <td>0.667271</td>\n",
       "      <td>0.669989</td>\n",
       "      <td>0.666062</td>\n",
       "      <td>0.673077</td>\n",
       "      <td>0.670295</td>\n",
       "      <td>0.673682</td>\n",
       "      <td>0.673319</td>\n",
       "    </tr>\n",
       "    <tr>\n",
       "      <th>Seward Park</th>\n",
       "      <td>0.679196</td>\n",
       "      <td>0.680103</td>\n",
       "      <td>0.676573</td>\n",
       "      <td>0.680070</td>\n",
       "      <td>0.680070</td>\n",
       "      <td>0.681381</td>\n",
       "      <td>0.682692</td>\n",
       "    </tr>\n",
       "    <tr>\n",
       "      <th>University District</th>\n",
       "      <td>0.744956</td>\n",
       "      <td>0.742809</td>\n",
       "      <td>0.745113</td>\n",
       "      <td>0.747636</td>\n",
       "      <td>0.742591</td>\n",
       "      <td>0.743380</td>\n",
       "      <td>0.744325</td>\n",
       "    </tr>\n",
       "    <tr>\n",
       "      <th>West Seattle</th>\n",
       "      <td>0.700171</td>\n",
       "      <td>0.702203</td>\n",
       "      <td>0.700265</td>\n",
       "      <td>0.703676</td>\n",
       "      <td>0.698655</td>\n",
       "      <td>0.701686</td>\n",
       "      <td>0.701213</td>\n",
       "    </tr>\n",
       "  </tbody>\n",
       "</table>\n",
       "</div>"
      ],
      "text/plain": [
       "dayofweek                       Friday    Monday  Saturday    Sunday  \\\n",
       "neighbourhood_group_cleansed                                           \n",
       "Ballard                       0.685953  0.694586  0.684365  0.693395   \n",
       "Beacon Hill                   0.699153  0.703230  0.697360  0.701923   \n",
       "Capitol Hill                  0.642552  0.640378  0.641602  0.643942   \n",
       "Cascade                       0.572602  0.574942  0.572169  0.576491   \n",
       "Central Area                  0.668022  0.675308  0.667136  0.675005   \n",
       "Delridge                      0.749757  0.742298  0.750000  0.747809   \n",
       "Downtown                      0.646226  0.652581  0.645646  0.655733   \n",
       "Interbay                      0.844406  0.843911  0.846154  0.847902   \n",
       "Lake City                     0.767509  0.765981  0.764925  0.768657   \n",
       "Magnolia                      0.773014  0.776059  0.773960  0.775536   \n",
       "Northgate                     0.720673  0.723349  0.720433  0.724519   \n",
       "Other neighborhoods           0.671042  0.671095  0.668233  0.672132   \n",
       "Queen Anne                    0.619622  0.621298  0.619557  0.624837   \n",
       "Rainier Valley                0.667271  0.669989  0.666062  0.673077   \n",
       "Seward Park                   0.679196  0.680103  0.676573  0.680070   \n",
       "University District           0.744956  0.742809  0.745113  0.747636   \n",
       "West Seattle                  0.700171  0.702203  0.700265  0.703676   \n",
       "\n",
       "dayofweek                     Thursday   Tuesday  Wednesday  \n",
       "neighbourhood_group_cleansed                                 \n",
       "Ballard                       0.691806  0.697241   0.698411  \n",
       "Beacon Hill                   0.704205  0.707790   0.705997  \n",
       "Capitol Hill                  0.640144  0.639601   0.639126  \n",
       "Cascade                       0.577139  0.579948   0.579948  \n",
       "Central Area                  0.672035  0.675005   0.673911  \n",
       "Delridge                      0.746592  0.746105   0.747809  \n",
       "Downtown                      0.646154  0.652721   0.650254  \n",
       "Interbay                      0.844406  0.844406   0.846154  \n",
       "Lake City                     0.772962  0.767796   0.773823  \n",
       "Magnolia                      0.773644  0.775221   0.775221  \n",
       "Northgate                     0.722115  0.724760   0.723558  \n",
       "Other neighborhoods           0.672520  0.672714   0.674070  \n",
       "Queen Anne                    0.617536  0.620469   0.619622  \n",
       "Rainier Valley                0.670295  0.673682   0.673319  \n",
       "Seward Park                   0.680070  0.681381   0.682692  \n",
       "University District           0.742591  0.743380   0.744325  \n",
       "West Seattle                  0.698655  0.701686   0.701213  "
      ]
     },
     "execution_count": 33,
     "metadata": {},
     "output_type": "execute_result"
    }
   ],
   "source": [
    "pd.merge(cal,listings[['id','neighbourhood_group_cleansed']], left_on = 'listing_id', right_on = 'id').groupby(['neighbourhood_group_cleansed', 'dayofweek']).mean()['available'].unstack()"
   ]
  },
  {
   "cell_type": "code",
   "execution_count": 35,
   "metadata": {},
   "outputs": [
    {
     "data": {
      "image/png": "[encoded data removed]",
      "text/plain": [
       "<Figure size 1080x360 with 1 Axes>"
      ]
     },
     "metadata": {
      "needs_background": "light"
     },
     "output_type": "display_data"
    }
   ],
   "source": [
    "fig, ax = plt.subplots(1,1, figsize =(15,5))\n",
    "# ax.set_xticks(list(range(1,13)))\n",
    "pd.merge(cal,listings[['id','neighbourhood_group_cleansed']], left_on = 'listing_id', right_on = 'id').groupby(['dayofweek', 'neighbourhood_group_cleansed']).mean()['available'].unstack().plot(ax =ax)\n",
    "ax.legend(bbox_to_anchor=(1,1), loc=\"upper left\")\n",
    "plt.show()"
   ]
  },
  {
   "cell_type": "markdown",
   "metadata": {},
   "source": [
    "So this do not show any variation for any neighborhood for any day of the week, it seems consistent"
   ]
  },
  {
   "cell_type": "code",
   "execution_count": 36,
   "metadata": {},
   "outputs": [
    {
     "data": {
      "image/png": "[encoded data removed]",
      "text/plain": [
       "<Figure size 864x360 with 1 Axes>"
      ]
     },
     "metadata": {
      "needs_background": "light"
     },
     "output_type": "display_data"
    }
   ],
   "source": [
    "fig, ax = plt.subplots(1,1, figsize =(12,5))\n",
    "ax.set_xticks(list(range(1,13)))\n",
    "ax.set_xticklabels(calendar.month_abbr[1:13])\n",
    "plt.plot(cal.groupby('month').mean().sort_values('month', ascending = True)['available'])\n",
    "plt.show()"
   ]
  },
  {
   "cell_type": "markdown",
   "metadata": {},
   "source": [
    "During Jan and Jul availability ratio is less, on the other hand Since Aug to Dec keeping availbility is high and Feb too.\n",
    "There might be a reason to availbility percentage is low in beween April to July. That can give an insight to solve the case."
   ]
  },
  {
   "cell_type": "code",
   "execution_count": 37,
   "metadata": {},
   "outputs": [
    {
     "data": {
      "text/html": [
       "<div>\n",
       "<style scoped>\n",
       "    .dataframe tbody tr th:only-of-type {\n",
       "        vertical-align: middle;\n",
       "    }\n",
       "\n",
       "    .dataframe tbody tr th {\n",
       "        vertical-align: top;\n",
       "    }\n",
       "\n",
       "    .dataframe thead th {\n",
       "        text-align: right;\n",
       "    }\n",
       "</style>\n",
       "<table border=\"1\" class=\"dataframe\">\n",
       "  <thead>\n",
       "    <tr style=\"text-align: right;\">\n",
       "      <th>month</th>\n",
       "      <th>1</th>\n",
       "      <th>2</th>\n",
       "      <th>3</th>\n",
       "      <th>4</th>\n",
       "      <th>5</th>\n",
       "      <th>6</th>\n",
       "      <th>7</th>\n",
       "      <th>8</th>\n",
       "      <th>9</th>\n",
       "      <th>10</th>\n",
       "      <th>11</th>\n",
       "      <th>12</th>\n",
       "    </tr>\n",
       "    <tr>\n",
       "      <th>neighbourhood_group_cleansed</th>\n",
       "      <th></th>\n",
       "      <th></th>\n",
       "      <th></th>\n",
       "      <th></th>\n",
       "      <th></th>\n",
       "      <th></th>\n",
       "      <th></th>\n",
       "      <th></th>\n",
       "      <th></th>\n",
       "      <th></th>\n",
       "      <th></th>\n",
       "      <th></th>\n",
       "    </tr>\n",
       "  </thead>\n",
       "  <tbody>\n",
       "    <tr>\n",
       "      <th>Ballard</th>\n",
       "      <td>0.533043</td>\n",
       "      <td>0.613643</td>\n",
       "      <td>0.682889</td>\n",
       "      <td>0.668551</td>\n",
       "      <td>0.701964</td>\n",
       "      <td>0.731449</td>\n",
       "      <td>0.666199</td>\n",
       "      <td>0.700000</td>\n",
       "      <td>0.721449</td>\n",
       "      <td>0.741094</td>\n",
       "      <td>0.761159</td>\n",
       "      <td>0.779102</td>\n",
       "    </tr>\n",
       "    <tr>\n",
       "      <th>Beacon Hill</th>\n",
       "      <td>0.596045</td>\n",
       "      <td>0.692870</td>\n",
       "      <td>0.749043</td>\n",
       "      <td>0.720621</td>\n",
       "      <td>0.737015</td>\n",
       "      <td>0.723729</td>\n",
       "      <td>0.650082</td>\n",
       "      <td>0.696555</td>\n",
       "      <td>0.700847</td>\n",
       "      <td>0.705850</td>\n",
       "      <td>0.716102</td>\n",
       "      <td>0.742482</td>\n",
       "    </tr>\n",
       "    <tr>\n",
       "      <th>Capitol Hill</th>\n",
       "      <td>0.544680</td>\n",
       "      <td>0.629326</td>\n",
       "      <td>0.661888</td>\n",
       "      <td>0.613698</td>\n",
       "      <td>0.626842</td>\n",
       "      <td>0.641093</td>\n",
       "      <td>0.601639</td>\n",
       "      <td>0.614781</td>\n",
       "      <td>0.653322</td>\n",
       "      <td>0.680776</td>\n",
       "      <td>0.697942</td>\n",
       "      <td>0.724071</td>\n",
       "    </tr>\n",
       "    <tr>\n",
       "      <th>Cascade</th>\n",
       "      <td>0.457678</td>\n",
       "      <td>0.557148</td>\n",
       "      <td>0.635738</td>\n",
       "      <td>0.574532</td>\n",
       "      <td>0.592968</td>\n",
       "      <td>0.562172</td>\n",
       "      <td>0.492207</td>\n",
       "      <td>0.512142</td>\n",
       "      <td>0.584270</td>\n",
       "      <td>0.616890</td>\n",
       "      <td>0.644569</td>\n",
       "      <td>0.680681</td>\n",
       "    </tr>\n",
       "    <tr>\n",
       "      <th>Central Area</th>\n",
       "      <td>0.532249</td>\n",
       "      <td>0.655453</td>\n",
       "      <td>0.690532</td>\n",
       "      <td>0.641373</td>\n",
       "      <td>0.665093</td>\n",
       "      <td>0.682023</td>\n",
       "      <td>0.646210</td>\n",
       "      <td>0.662645</td>\n",
       "      <td>0.691689</td>\n",
       "      <td>0.707230</td>\n",
       "      <td>0.731165</td>\n",
       "      <td>0.758808</td>\n",
       "    </tr>\n",
       "    <tr>\n",
       "      <th>Delridge</th>\n",
       "      <td>0.611814</td>\n",
       "      <td>0.752510</td>\n",
       "      <td>0.770927</td>\n",
       "      <td>0.759072</td>\n",
       "      <td>0.764394</td>\n",
       "      <td>0.772152</td>\n",
       "      <td>0.714577</td>\n",
       "      <td>0.713761</td>\n",
       "      <td>0.754852</td>\n",
       "      <td>0.768885</td>\n",
       "      <td>0.783122</td>\n",
       "      <td>0.798693</td>\n",
       "    </tr>\n",
       "    <tr>\n",
       "      <th>Downtown</th>\n",
       "      <td>0.597925</td>\n",
       "      <td>0.707157</td>\n",
       "      <td>0.748448</td>\n",
       "      <td>0.692704</td>\n",
       "      <td>0.681862</td>\n",
       "      <td>0.644906</td>\n",
       "      <td>0.580158</td>\n",
       "      <td>0.593853</td>\n",
       "      <td>0.610063</td>\n",
       "      <td>0.631102</td>\n",
       "      <td>0.644277</td>\n",
       "      <td>0.668229</td>\n",
       "    </tr>\n",
       "    <tr>\n",
       "      <th>Interbay</th>\n",
       "      <td>0.833333</td>\n",
       "      <td>0.896552</td>\n",
       "      <td>0.909091</td>\n",
       "      <td>0.821212</td>\n",
       "      <td>0.812317</td>\n",
       "      <td>0.818182</td>\n",
       "      <td>0.809384</td>\n",
       "      <td>0.806452</td>\n",
       "      <td>0.818182</td>\n",
       "      <td>0.818182</td>\n",
       "      <td>0.893939</td>\n",
       "      <td>0.909091</td>\n",
       "    </tr>\n",
       "    <tr>\n",
       "      <th>Lake City</th>\n",
       "      <td>0.677114</td>\n",
       "      <td>0.728770</td>\n",
       "      <td>0.801637</td>\n",
       "      <td>0.787065</td>\n",
       "      <td>0.794896</td>\n",
       "      <td>0.788060</td>\n",
       "      <td>0.695234</td>\n",
       "      <td>0.719788</td>\n",
       "      <td>0.768657</td>\n",
       "      <td>0.819933</td>\n",
       "      <td>0.820896</td>\n",
       "      <td>0.820896</td>\n",
       "    </tr>\n",
       "    <tr>\n",
       "      <th>Magnolia</th>\n",
       "      <td>0.744262</td>\n",
       "      <td>0.812889</td>\n",
       "      <td>0.808567</td>\n",
       "      <td>0.746448</td>\n",
       "      <td>0.764675</td>\n",
       "      <td>0.743169</td>\n",
       "      <td>0.750397</td>\n",
       "      <td>0.745108</td>\n",
       "      <td>0.775956</td>\n",
       "      <td>0.796404</td>\n",
       "      <td>0.800546</td>\n",
       "      <td>0.808038</td>\n",
       "    </tr>\n",
       "    <tr>\n",
       "      <th>Northgate</th>\n",
       "      <td>0.545000</td>\n",
       "      <td>0.671121</td>\n",
       "      <td>0.778226</td>\n",
       "      <td>0.740417</td>\n",
       "      <td>0.780645</td>\n",
       "      <td>0.761250</td>\n",
       "      <td>0.706048</td>\n",
       "      <td>0.710484</td>\n",
       "      <td>0.727500</td>\n",
       "      <td>0.743145</td>\n",
       "      <td>0.751667</td>\n",
       "      <td>0.751613</td>\n",
       "    </tr>\n",
       "    <tr>\n",
       "      <th>Other neighborhoods</th>\n",
       "      <td>0.556759</td>\n",
       "      <td>0.635021</td>\n",
       "      <td>0.692573</td>\n",
       "      <td>0.663770</td>\n",
       "      <td>0.683107</td>\n",
       "      <td>0.677792</td>\n",
       "      <td>0.636183</td>\n",
       "      <td>0.658650</td>\n",
       "      <td>0.688875</td>\n",
       "      <td>0.705858</td>\n",
       "      <td>0.720151</td>\n",
       "      <td>0.737466</td>\n",
       "    </tr>\n",
       "    <tr>\n",
       "      <th>Queen Anne</th>\n",
       "      <td>0.508249</td>\n",
       "      <td>0.602221</td>\n",
       "      <td>0.632367</td>\n",
       "      <td>0.581243</td>\n",
       "      <td>0.584035</td>\n",
       "      <td>0.579661</td>\n",
       "      <td>0.558338</td>\n",
       "      <td>0.588518</td>\n",
       "      <td>0.637514</td>\n",
       "      <td>0.685730</td>\n",
       "      <td>0.729831</td>\n",
       "      <td>0.754073</td>\n",
       "    </tr>\n",
       "    <tr>\n",
       "      <th>Rainier Valley</th>\n",
       "      <td>0.570440</td>\n",
       "      <td>0.690740</td>\n",
       "      <td>0.761615</td>\n",
       "      <td>0.674633</td>\n",
       "      <td>0.662609</td>\n",
       "      <td>0.672327</td>\n",
       "      <td>0.621627</td>\n",
       "      <td>0.628931</td>\n",
       "      <td>0.652621</td>\n",
       "      <td>0.678840</td>\n",
       "      <td>0.698742</td>\n",
       "      <td>0.731791</td>\n",
       "    </tr>\n",
       "    <tr>\n",
       "      <th>Seward Park</th>\n",
       "      <td>0.643182</td>\n",
       "      <td>0.766458</td>\n",
       "      <td>0.834311</td>\n",
       "      <td>0.686364</td>\n",
       "      <td>0.689150</td>\n",
       "      <td>0.663636</td>\n",
       "      <td>0.600440</td>\n",
       "      <td>0.607038</td>\n",
       "      <td>0.618182</td>\n",
       "      <td>0.678886</td>\n",
       "      <td>0.681818</td>\n",
       "      <td>0.692815</td>\n",
       "    </tr>\n",
       "    <tr>\n",
       "      <th>University District</th>\n",
       "      <td>0.695082</td>\n",
       "      <td>0.768513</td>\n",
       "      <td>0.790323</td>\n",
       "      <td>0.720219</td>\n",
       "      <td>0.745108</td>\n",
       "      <td>0.760656</td>\n",
       "      <td>0.724749</td>\n",
       "      <td>0.738763</td>\n",
       "      <td>0.741257</td>\n",
       "      <td>0.744844</td>\n",
       "      <td>0.744809</td>\n",
       "      <td>0.758065</td>\n",
       "    </tr>\n",
       "    <tr>\n",
       "      <th>West Seattle</th>\n",
       "      <td>0.596552</td>\n",
       "      <td>0.698318</td>\n",
       "      <td>0.748768</td>\n",
       "      <td>0.702135</td>\n",
       "      <td>0.706181</td>\n",
       "      <td>0.724466</td>\n",
       "      <td>0.668679</td>\n",
       "      <td>0.674877</td>\n",
       "      <td>0.705090</td>\n",
       "      <td>0.714604</td>\n",
       "      <td>0.725780</td>\n",
       "      <td>0.746226</td>\n",
       "    </tr>\n",
       "  </tbody>\n",
       "</table>\n",
       "</div>"
      ],
      "text/plain": [
       "month                               1         2         3         4   \\\n",
       "neighbourhood_group_cleansed                                           \n",
       "Ballard                       0.533043  0.613643  0.682889  0.668551   \n",
       "Beacon Hill                   0.596045  0.692870  0.749043  0.720621   \n",
       "Capitol Hill                  0.544680  0.629326  0.661888  0.613698   \n",
       "Cascade                       0.457678  0.557148  0.635738  0.574532   \n",
       "Central Area                  0.532249  0.655453  0.690532  0.641373   \n",
       "Delridge                      0.611814  0.752510  0.770927  0.759072   \n",
       "Downtown                      0.597925  0.707157  0.748448  0.692704   \n",
       "Interbay                      0.833333  0.896552  0.909091  0.821212   \n",
       "Lake City                     0.677114  0.728770  0.801637  0.787065   \n",
       "Magnolia                      0.744262  0.812889  0.808567  0.746448   \n",
       "Northgate                     0.545000  0.671121  0.778226  0.740417   \n",
       "Other neighborhoods           0.556759  0.635021  0.692573  0.663770   \n",
       "Queen Anne                    0.508249  0.602221  0.632367  0.581243   \n",
       "Rainier Valley                0.570440  0.690740  0.761615  0.674633   \n",
       "Seward Park                   0.643182  0.766458  0.834311  0.686364   \n",
       "University District           0.695082  0.768513  0.790323  0.720219   \n",
       "West Seattle                  0.596552  0.698318  0.748768  0.702135   \n",
       "\n",
       "month                               5         6         7         8   \\\n",
       "neighbourhood_group_cleansed                                           \n",
       "Ballard                       0.701964  0.731449  0.666199  0.700000   \n",
       "Beacon Hill                   0.737015  0.723729  0.650082  0.696555   \n",
       "Capitol Hill                  0.626842  0.641093  0.601639  0.614781   \n",
       "Cascade                       0.592968  0.562172  0.492207  0.512142   \n",
       "Central Area                  0.665093  0.682023  0.646210  0.662645   \n",
       "Delridge                      0.764394  0.772152  0.714577  0.713761   \n",
       "Downtown                      0.681862  0.644906  0.580158  0.593853   \n",
       "Interbay                      0.812317  0.818182  0.809384  0.806452   \n",
       "Lake City                     0.794896  0.788060  0.695234  0.719788   \n",
       "Magnolia                      0.764675  0.743169  0.750397  0.745108   \n",
       "Northgate                     0.780645  0.761250  0.706048  0.710484   \n",
       "Other neighborhoods           0.683107  0.677792  0.636183  0.658650   \n",
       "Queen Anne                    0.584035  0.579661  0.558338  0.588518   \n",
       "Rainier Valley                0.662609  0.672327  0.621627  0.628931   \n",
       "Seward Park                   0.689150  0.663636  0.600440  0.607038   \n",
       "University District           0.745108  0.760656  0.724749  0.738763   \n",
       "West Seattle                  0.706181  0.724466  0.668679  0.674877   \n",
       "\n",
       "month                               9         10        11        12  \n",
       "neighbourhood_group_cleansed                                          \n",
       "Ballard                       0.721449  0.741094  0.761159  0.779102  \n",
       "Beacon Hill                   0.700847  0.705850  0.716102  0.742482  \n",
       "Capitol Hill                  0.653322  0.680776  0.697942  0.724071  \n",
       "Cascade                       0.584270  0.616890  0.644569  0.680681  \n",
       "Central Area                  0.691689  0.707230  0.731165  0.758808  \n",
       "Delridge                      0.754852  0.768885  0.783122  0.798693  \n",
       "Downtown                      0.610063  0.631102  0.644277  0.668229  \n",
       "Interbay                      0.818182  0.818182  0.893939  0.909091  \n",
       "Lake City                     0.768657  0.819933  0.820896  0.820896  \n",
       "Magnolia                      0.775956  0.796404  0.800546  0.808038  \n",
       "Northgate                     0.727500  0.743145  0.751667  0.751613  \n",
       "Other neighborhoods           0.688875  0.705858  0.720151  0.737466  \n",
       "Queen Anne                    0.637514  0.685730  0.729831  0.754073  \n",
       "Rainier Valley                0.652621  0.678840  0.698742  0.731791  \n",
       "Seward Park                   0.618182  0.678886  0.681818  0.692815  \n",
       "University District           0.741257  0.744844  0.744809  0.758065  \n",
       "West Seattle                  0.705090  0.714604  0.725780  0.746226  "
      ]
     },
     "execution_count": 37,
     "metadata": {},
     "output_type": "execute_result"
    }
   ],
   "source": [
    "pd.merge(cal,listings[['id','neighbourhood_group_cleansed']],left_on = 'listing_id',right_on = 'id').groupby(['neighbourhood_group_cleansed', 'month']).mean()['available'].unstack()"
   ]
  },
  {
   "cell_type": "code",
   "execution_count": 41,
   "metadata": {},
   "outputs": [
    {
     "data": {
      "image/png": "[encoded data removed]",
      "text/plain": [
       "<Figure size 1080x360 with 1 Axes>"
      ]
     },
     "metadata": {
      "needs_background": "light"
     },
     "output_type": "display_data"
    }
   ],
   "source": [
    "fig, ax = plt.subplots(1,1, figsize =(15,5))\n",
    "ax.set_xticks(list(range(1,13)))\n",
    "ax.set_xticklabels(calendar.month_abbr[1:13])\n",
    "pd.merge(cal, listings[['id','neighbourhood_group_cleansed']], left_on = 'listing_id', right_on = 'id').groupby(['month', 'neighbourhood_group_cleansed']).mean()['available'].unstack().plot(ax =ax)\n",
    "ax.legend(bbox_to_anchor=(1,1), loc=\"upper left\")\n",
    "plt.show()"
   ]
  },
  {
   "cell_type": "markdown",
   "metadata": {},
   "source": [
    "I dont think there is much variation among neighbourhood_group_cleansed,making little confusion to me."
   ]
  },
  {
   "cell_type": "markdown",
   "metadata": {},
   "source": [
    "# Second Case Feature Selection, main factors that drive through price"
   ]
  },
  {
   "cell_type": "code",
   "execution_count": 43,
   "metadata": {},
   "outputs": [
    {
     "data": {
      "image/png": "[encoded data removed]",
      "text/plain": [
       "<Figure size 432x288 with 1 Axes>"
      ]
     },
     "metadata": {
      "needs_background": "light"
     },
     "output_type": "display_data"
    }
   ],
   "source": [
    "# The price variation\n",
    "grouped_prices= cal.groupby('listing_id').median().round()\n",
    "sns.distplot(grouped_prices['price'], hist=True, kde=False, bins=50 )\n",
    "plt.show()"
   ]
  },
  {
   "cell_type": "markdown",
   "metadata": {},
   "source": [
    "Most of are in between 100 - 300$ only. But high peak @ 100$"
   ]
  },
  {
   "cell_type": "code",
   "execution_count": 44,
   "metadata": {},
   "outputs": [
    {
     "data": {
      "text/html": [
       "<div>\n",
       "<style scoped>\n",
       "    .dataframe tbody tr th:only-of-type {\n",
       "        vertical-align: middle;\n",
       "    }\n",
       "\n",
       "    .dataframe tbody tr th {\n",
       "        vertical-align: top;\n",
       "    }\n",
       "\n",
       "    .dataframe thead th {\n",
       "        text-align: right;\n",
       "    }\n",
       "</style>\n",
       "<table border=\"1\" class=\"dataframe\">\n",
       "  <thead>\n",
       "    <tr style=\"text-align: right;\">\n",
       "      <th></th>\n",
       "      <th>price</th>\n",
       "    </tr>\n",
       "    <tr>\n",
       "      <th>neighbourhood_group_cleansed</th>\n",
       "      <th></th>\n",
       "    </tr>\n",
       "  </thead>\n",
       "  <tbody>\n",
       "    <tr>\n",
       "      <th>Magnolia</th>\n",
       "      <td>177.672131</td>\n",
       "    </tr>\n",
       "    <tr>\n",
       "      <th>Queen Anne</th>\n",
       "      <td>157.223729</td>\n",
       "    </tr>\n",
       "    <tr>\n",
       "      <th>Downtown</th>\n",
       "      <td>154.405660</td>\n",
       "    </tr>\n",
       "    <tr>\n",
       "      <th>West Seattle</th>\n",
       "      <td>141.359606</td>\n",
       "    </tr>\n",
       "    <tr>\n",
       "      <th>Cascade</th>\n",
       "      <td>140.101124</td>\n",
       "    </tr>\n",
       "    <tr>\n",
       "      <th>Capitol Hill</th>\n",
       "      <td>130.592593</td>\n",
       "    </tr>\n",
       "    <tr>\n",
       "      <th>Central Area</th>\n",
       "      <td>128.338753</td>\n",
       "    </tr>\n",
       "    <tr>\n",
       "      <th>Ballard</th>\n",
       "      <td>124.682609</td>\n",
       "    </tr>\n",
       "    <tr>\n",
       "      <th>Other neighborhoods</th>\n",
       "      <td>119.968514</td>\n",
       "    </tr>\n",
       "    <tr>\n",
       "      <th>Interbay</th>\n",
       "      <td>109.727273</td>\n",
       "    </tr>\n",
       "    <tr>\n",
       "      <th>Seward Park</th>\n",
       "      <td>108.477273</td>\n",
       "    </tr>\n",
       "    <tr>\n",
       "      <th>Beacon Hill</th>\n",
       "      <td>94.669492</td>\n",
       "    </tr>\n",
       "    <tr>\n",
       "      <th>University District</th>\n",
       "      <td>93.639344</td>\n",
       "    </tr>\n",
       "    <tr>\n",
       "      <th>Lake City</th>\n",
       "      <td>92.671642</td>\n",
       "    </tr>\n",
       "    <tr>\n",
       "      <th>Rainier Valley</th>\n",
       "      <td>91.899371</td>\n",
       "    </tr>\n",
       "    <tr>\n",
       "      <th>Northgate</th>\n",
       "      <td>88.550000</td>\n",
       "    </tr>\n",
       "    <tr>\n",
       "      <th>Delridge</th>\n",
       "      <td>83.278481</td>\n",
       "    </tr>\n",
       "  </tbody>\n",
       "</table>\n",
       "</div>"
      ],
      "text/plain": [
       "                                   price\n",
       "neighbourhood_group_cleansed            \n",
       "Magnolia                      177.672131\n",
       "Queen Anne                    157.223729\n",
       "Downtown                      154.405660\n",
       "West Seattle                  141.359606\n",
       "Cascade                       140.101124\n",
       "Capitol Hill                  130.592593\n",
       "Central Area                  128.338753\n",
       "Ballard                       124.682609\n",
       "Other neighborhoods           119.968514\n",
       "Interbay                      109.727273\n",
       "Seward Park                   108.477273\n",
       "Beacon Hill                    94.669492\n",
       "University District            93.639344\n",
       "Lake City                      92.671642\n",
       "Rainier Valley                 91.899371\n",
       "Northgate                      88.550000\n",
       "Delridge                       83.278481"
      ]
     },
     "execution_count": 44,
     "metadata": {},
     "output_type": "execute_result"
    }
   ],
   "source": [
    "listings.groupby('neighbourhood_group_cleansed').mean().sort_values('price', ascending = False)[['price']]"
   ]
  },
  {
   "cell_type": "markdown",
   "metadata": {},
   "source": [
    "This is quiet intersting, few places are showig up high prices might be if I can include other major factors \n",
    "might be I can predict the price correctly."
   ]
  },
  {
   "cell_type": "code",
   "execution_count": 45,
   "metadata": {},
   "outputs": [
    {
     "data": {
      "text/html": [
       "<div>\n",
       "<style scoped>\n",
       "    .dataframe tbody tr th:only-of-type {\n",
       "        vertical-align: middle;\n",
       "    }\n",
       "\n",
       "    .dataframe tbody tr th {\n",
       "        vertical-align: top;\n",
       "    }\n",
       "\n",
       "    .dataframe thead th {\n",
       "        text-align: right;\n",
       "    }\n",
       "</style>\n",
       "<table border=\"1\" class=\"dataframe\">\n",
       "  <thead>\n",
       "    <tr style=\"text-align: right;\">\n",
       "      <th></th>\n",
       "      <th>price_per_bedroom</th>\n",
       "    </tr>\n",
       "    <tr>\n",
       "      <th>neighbourhood_group_cleansed</th>\n",
       "      <th></th>\n",
       "    </tr>\n",
       "  </thead>\n",
       "  <tbody>\n",
       "    <tr>\n",
       "      <th>Downtown</th>\n",
       "      <td>129.413395</td>\n",
       "    </tr>\n",
       "    <tr>\n",
       "      <th>Cascade</th>\n",
       "      <td>113.896875</td>\n",
       "    </tr>\n",
       "    <tr>\n",
       "      <th>Queen Anne</th>\n",
       "      <td>109.114622</td>\n",
       "    </tr>\n",
       "    <tr>\n",
       "      <th>Interbay</th>\n",
       "      <td>102.909091</td>\n",
       "    </tr>\n",
       "    <tr>\n",
       "      <th>Capitol Hill</th>\n",
       "      <td>102.170668</td>\n",
       "    </tr>\n",
       "    <tr>\n",
       "      <th>Magnolia</th>\n",
       "      <td>101.028736</td>\n",
       "    </tr>\n",
       "    <tr>\n",
       "      <th>West Seattle</th>\n",
       "      <td>89.354497</td>\n",
       "    </tr>\n",
       "    <tr>\n",
       "      <th>Central Area</th>\n",
       "      <td>86.859012</td>\n",
       "    </tr>\n",
       "    <tr>\n",
       "      <th>Ballard</th>\n",
       "      <td>84.502701</td>\n",
       "    </tr>\n",
       "    <tr>\n",
       "      <th>Other neighborhoods</th>\n",
       "      <td>81.344013</td>\n",
       "    </tr>\n",
       "    <tr>\n",
       "      <th>Seward Park</th>\n",
       "      <td>72.252137</td>\n",
       "    </tr>\n",
       "    <tr>\n",
       "      <th>University District</th>\n",
       "      <td>71.910948</td>\n",
       "    </tr>\n",
       "    <tr>\n",
       "      <th>Beacon Hill</th>\n",
       "      <td>71.021829</td>\n",
       "    </tr>\n",
       "    <tr>\n",
       "      <th>Lake City</th>\n",
       "      <td>70.634921</td>\n",
       "    </tr>\n",
       "    <tr>\n",
       "      <th>Rainier Valley</th>\n",
       "      <td>68.333878</td>\n",
       "    </tr>\n",
       "    <tr>\n",
       "      <th>Delridge</th>\n",
       "      <td>67.438356</td>\n",
       "    </tr>\n",
       "    <tr>\n",
       "      <th>Northgate</th>\n",
       "      <td>67.093202</td>\n",
       "    </tr>\n",
       "  </tbody>\n",
       "</table>\n",
       "</div>"
      ],
      "text/plain": [
       "                              price_per_bedroom\n",
       "neighbourhood_group_cleansed                   \n",
       "Downtown                             129.413395\n",
       "Cascade                              113.896875\n",
       "Queen Anne                           109.114622\n",
       "Interbay                             102.909091\n",
       "Capitol Hill                         102.170668\n",
       "Magnolia                             101.028736\n",
       "West Seattle                          89.354497\n",
       "Central Area                          86.859012\n",
       "Ballard                               84.502701\n",
       "Other neighborhoods                   81.344013\n",
       "Seward Park                           72.252137\n",
       "University District                   71.910948\n",
       "Beacon Hill                           71.021829\n",
       "Lake City                             70.634921\n",
       "Rainier Valley                        68.333878\n",
       "Delridge                              67.438356\n",
       "Northgate                             67.093202"
      ]
     },
     "execution_count": 45,
     "metadata": {},
     "output_type": "execute_result"
    }
   ],
   "source": [
    "def price_per_unit(price, units):\n",
    "    if pd.isnull(units) or units == 0:\n",
    "        return np.nan\n",
    "    else:\n",
    "        return price/units\n",
    "listings['price_per_bedroom'] = listings.apply(lambda x: price_per_unit(x['price'],x['bedrooms']), axis = 1)\n",
    "listings.groupby('neighbourhood_group_cleansed').mean().sort_values('price_per_bedroom', ascending = False)[['price_per_bedroom']]"
   ]
  },
  {
   "cell_type": "code",
   "execution_count": 46,
   "metadata": {},
   "outputs": [
    {
     "data": {
      "image/png": "[encoded data removed]",
      "text/plain": [
       "<Figure size 864x360 with 1 Axes>"
      ]
     },
     "metadata": {
      "needs_background": "light"
     },
     "output_type": "display_data"
    }
   ],
   "source": [
    "fig, ax = plt.subplots(1,1, figsize =(12,5))\n",
    "ax.set_xticks(list(range(1,13)))\n",
    "ax.set_xticklabels(calendar.month_abbr[1:13])\n",
    "plt.plot(cal.groupby('month').mean().sort_values('month', ascending = True)['price'])\n",
    "plt.show()"
   ]
  },
  {
   "cell_type": "code",
   "execution_count": 48,
   "metadata": {},
   "outputs": [
    {
     "data": {
      "image/png": "[encoded data removed]",
      "text/plain": [
       "<Figure size 1080x360 with 1 Axes>"
      ]
     },
     "metadata": {
      "needs_background": "light"
     },
     "output_type": "display_data"
    }
   ],
   "source": [
    "fig, ax = plt.subplots(1,1, figsize =(15,5))\n",
    "ax.set_xticks(list(range(1,13)))\n",
    "ax.set_xticklabels(calendar.month_abbr[1:13])\n",
    "pd.merge(cal, listings[['id','neighbourhood_group_cleansed']], left_on = 'listing_id', right_on = 'id').groupby(['month', 'neighbourhood_group_cleansed']).mean()['price'].unstack().plot(ax =ax)\n",
    "ax.legend(bbox_to_anchor=(1,1), loc=\"upper left\")\n",
    "plt.show()"
   ]
  },
  {
   "cell_type": "markdown",
   "metadata": {},
   "source": [
    "It's giving good amount of details about price hig during the season's and summer , winter are very costlier to visit Seattle."
   ]
  },
  {
   "cell_type": "code",
   "execution_count": 50,
   "metadata": {},
   "outputs": [],
   "source": [
    "cal.dropna(axis=0, inplace=True)"
   ]
  },
  {
   "cell_type": "markdown",
   "metadata": {},
   "source": [
    "# Lets check with  Linaer Regression model"
   ]
  },
  {
   "cell_type": "code",
   "execution_count": 51,
   "metadata": {},
   "outputs": [
    {
     "data": {
      "image/png": "[encoded data removed]",
      "text/plain": [
       "<Figure size 432x288 with 1 Axes>"
      ]
     },
     "metadata": {
      "needs_background": "light"
     },
     "output_type": "display_data"
    }
   ],
   "source": [
    "from sklearn import preprocessing\n",
    "min_max_scaler = preprocessing.MinMaxScaler()\n",
    "\n",
    "pd_model_data_x = listings[['neighbourhood_group_cleansed','property_type','room_type','accommodates','bathrooms','bedrooms']]\n",
    "pd_model_data_x['accommodates'] = min_max_scaler.fit_transform(pd_model_data_x[['accommodates']])\n",
    "pd_model_data_x['bathrooms'] = min_max_scaler.fit_transform(pd_model_data_x[['bathrooms']])\n",
    "pd_model_data_x['bedrooms'] = min_max_scaler.fit_transform(pd_model_data_x[['bedrooms']])\n",
    "\n",
    "pd_model_data_x = pd.get_dummies(pd_model_data_x, columns=['neighbourhood_group_cleansed','property_type','room_type'])\n",
    "pd_model_data_y = listings['price']\n",
    "\n",
    "# train and test - x and y\n",
    "from sklearn.model_selection import train_test_split\n",
    "X_train, X_test, y_train, y_test = train_test_split(pd_model_data_x,pd_model_data_y,test_size=0.2, random_state=42)\n",
    "\n",
    "# linear regression\n",
    "from sklearn.linear_model import LinearRegression\n",
    "lm = LinearRegression()\n",
    "lm.fit(X_train, y_train)\n",
    "\n",
    "coefficients = pd.DataFrame({'feature': X_train.columns, 'importance': lm.coef_})\n",
    "_ = coefficients.sort_values('importance', ascending=False)[:15].plot(x='feature', y='importance', kind='bar')"
   ]
  },
  {
   "cell_type": "markdown",
   "metadata": {},
   "source": [
    "By above feature selection bedrooms,bathrooms, property_type and accommodates are most significant features to the price."
   ]
  },
  {
   "cell_type": "code",
   "execution_count": 52,
   "metadata": {},
   "outputs": [],
   "source": [
    "y_test_preds = lm.predict(X_test)\n",
    "y_train_preds = lm.predict(X_train)"
   ]
  },
  {
   "cell_type": "code",
   "execution_count": 53,
   "metadata": {},
   "outputs": [
    {
     "name": "stdout",
     "output_type": "stream",
     "text": [
      "Linear Regression MSE test: 58.672\n",
      "Linear Regression R^2 test: 0.568, test: 0.576\n"
     ]
    }
   ],
   "source": [
    "from sklearn import metrics\n",
    "from sklearn.metrics import r2_score\n",
    "lm_mse = metrics.mean_squared_error(y_test, lm.predict(X_test))\n",
    "lm_mse = np.sqrt(lm_mse)\n",
    "print('Linear Regression MSE test: %.3f'% lm_mse)\n",
    "print('Linear Regression R^2 test: %.3f, test: %.3f' % (\n",
    "        r2_score(y_train, y_train_preds),\n",
    "        r2_score(y_test, y_test_preds)))"
   ]
  },
  {
   "cell_type": "code",
   "execution_count": 53,
   "metadata": {},
   "outputs": [
    {
     "data": {
      "text/plain": [
       "DecisionTreeRegressor()"
      ]
     },
     "execution_count": 53,
     "metadata": {},
     "output_type": "execute_result"
    }
   ],
   "source": [
    "from sklearn.tree import DecisionTreeRegressor\n",
    "tree_reg = DecisionTreeRegressor() \n",
    "tree_reg.fit(X_train, y_train)"
   ]
  },
  {
   "cell_type": "code",
   "execution_count": 54,
   "metadata": {},
   "outputs": [
    {
     "name": "stdout",
     "output_type": "stream",
     "text": [
      "Decision Tree MSE test: 66.044\n",
      "Decision Tree R^2 test: 0.576\n"
     ]
    }
   ],
   "source": [
    "des_tree_mse = metrics.mean_squared_error(y_test, tree_reg.predict(X_test))\n",
    "des_tree_mse = np.sqrt(des_tree_mse)\n",
    "print('Decision Tree MSE test: %.3f'% des_tree_mse)\n",
    "print('Decision Tree R^2 test: %.3f' % (r2_score(y_test, y_test_preds)))"
   ]
  },
  {
   "cell_type": "code",
   "execution_count": 56,
   "metadata": {},
   "outputs": [
    {
     "name": "stdout",
     "output_type": "stream",
     "text": [
      "Random Forest MSE train: 41.999, test: 57.012\n",
      "Random Forest R^2 train: 0.784, test: 0.600\n"
     ]
    }
   ],
   "source": [
    "from sklearn.ensemble import RandomForestRegressor\n",
    "from sklearn.metrics import r2_score, mean_squared_error\n",
    "\n",
    "forest = RandomForestRegressor(n_estimators=200,max_features='sqrt',criterion='mse', random_state=42, n_jobs=1)\n",
    "forest.fit(X_train, y_train.squeeze())\n",
    "\n",
    "#calculate scores for the model\n",
    "y_train_preds = forest.predict(X_train)\n",
    "y_test_preds = forest.predict(X_test)\n",
    "\n",
    "print('Random Forest MSE train: %.3f, test: %.3f' % (np.sqrt(mean_squared_error(y_train, y_train_preds)),np.sqrt(mean_squared_error(y_test, y_test_preds))))\n",
    "print('Random Forest R^2 train: %.3f, test: %.3f' % (r2_score(y_train, y_train_preds),r2_score(y_test, y_test_preds)))"
   ]
  },
  {
   "cell_type": "code",
   "execution_count": 57,
   "metadata": {},
   "outputs": [
    {
     "name": "stdout",
     "output_type": "stream",
     "text": [
      "[17:18:14] WARNING: src/objective/regression_obj.cu:152: reg:linear is now deprecated in favor of reg:squarederror.\n"
     ]
    }
   ],
   "source": [
    "import xgboost\n",
    "xgb = xgboost.XGBRegressor(n_estimators=200, learning_rate=0.05, gamma=0.0,colsample_bytree=0.2, max_depth=4)\n",
    "xgb.fit(X_train,y_train)\n",
    "\n",
    "#calculate and print scores for the model for top 15 features\n",
    "y_train_preds = xgb.predict(X_train)\n",
    "y_test_preds = xgb.predict(X_test)"
   ]
  },
  {
   "cell_type": "code",
   "execution_count": 58,
   "metadata": {},
   "outputs": [
    {
     "name": "stdout",
     "output_type": "stream",
     "text": [
      "MSE train: 53.526, test: 55.139\n",
      "R^2 train: 0.648, test: 0.625\n"
     ]
    }
   ],
   "source": [
    "print('MSE train: %.3f, test: %.3f' % (np.sqrt(mean_squared_error(y_train, y_train_preds)),np.sqrt(mean_squared_error(y_test, y_test_preds))))\n",
    "print('R^2 train: %.3f, test: %.3f' % (r2_score(y_train, y_train_preds),r2_score(y_test, y_test_preds)))"
   ]
  },
  {
   "cell_type": "markdown",
   "metadata": {},
   "source": [
    "By above all model's performance RF and Xgboost have maintained low MSE and better coefficient of determention."
   ]
  }
 ],
 "metadata": {
  "kernelspec": {
   "display_name": "Python [conda env:poc]",
   "language": "python",
   "name": "conda-env-poc-py"
  },
  "language_info": {
   "codemirror_mode": {
    "name": "ipython",
    "version": 3
   },
   "file_extension": ".py",
   "mimetype": "text/x-python",
   "name": "python",
   "nbconvert_exporter": "python",
   "pygments_lexer": "ipython3",
   "version": "3.7.8"
  }
 },
 "nbformat": 4,
 "nbformat_minor": 2
}
